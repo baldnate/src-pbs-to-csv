{
 "cells": [
  {
   "cell_type": "markdown",
   "metadata": {},
   "source": [
    "# Building a csv of all your PBs\n",
    "-- by baldnate"
   ]
  },
  {
   "cell_type": "markdown",
   "metadata": {},
   "source": [
    "# Get user id"
   ]
  },
  {
   "cell_type": "code",
   "execution_count": 1,
   "metadata": {},
   "outputs": [],
   "source": [
    "import json\n",
    "import pandas as pd\n",
    "import requests\n",
    "\n",
    "def getUserId(username):\n",
    "  url = \"https://www.speedrun.com/api/v1/users?name=\" + username\n",
    "  data = requests.get(url).json()['data']\n",
    "  if len(data) == 1:\n",
    "    return data[0]['id']\n",
    "  else:\n",
    "    raise Exception('Searched for ' + username + ', got back ' + str(len(data)) + ' entries (expected 1)') \n",
    "\n",
    "userid = getUserId('baldnate')"
   ]
  },
  {
   "cell_type": "markdown",
   "metadata": {},
   "source": [
    "# Get PBs"
   ]
  },
  {
   "cell_type": "code",
   "execution_count": 2,
   "metadata": {},
   "outputs": [],
   "source": [
    "def getPBs(userid):\n",
    "  url = \"https://www.speedrun.com/api/v1/users/\" + userid + \"/personal-bests?embed=game,category,region,platform\"\n",
    "  data = requests.get(url).json()['data']\n",
    "  return data\n",
    "\n",
    "pbs = getPBs(userid)\n",
    "rawdf = pd.DataFrame(pbs)"
   ]
  },
  {
   "cell_type": "markdown",
   "metadata": {},
   "source": [
    "# \"Simple\" Columns"
   ]
  },
  {
   "cell_type": "code",
   "execution_count": 3,
   "metadata": {},
   "outputs": [],
   "source": [
    "runsdf = pd.DataFrame()\n",
    "runsdf['place'] = rawdf['place']\n",
    "runsdf['runid'] = rawdf.apply(lambda x: x.run['id'], axis=1)\n",
    "runsdf['gameid'] = rawdf.apply(lambda x: x.run['game'], axis=1)\n",
    "runsdf['gamename'] = rawdf.apply(lambda x: x.game['data']['names']['international'], axis=1)\n",
    "runsdf['categoryname'] = rawdf.apply(lambda x: x.category['data']['name'], axis=1)\n",
    "runsdf['time'] = rawdf.apply(lambda x: x.run['times']['primary_t'], axis=1)\n",
    "runsdf['date'] = rawdf.apply(lambda x: x.run['date'], axis=1)\n",
    "runsdf['video'] = rawdf.apply(lambda x: x.run['videos']['links'][0]['uri'], axis=1)\n",
    "runsdf['comment'] = rawdf.apply(lambda x: str(x.run['comment']).replace('\\n', ' ').replace('\\r', ' ') , axis=1)"
   ]
  },
  {
   "cell_type": "markdown",
   "metadata": {},
   "source": [
    "# Columns that need optional handling"
   ]
  },
  {
   "cell_type": "code",
   "execution_count": 4,
   "metadata": {},
   "outputs": [],
   "source": [
    "def getRegion(x):\n",
    "  if x.region['data'] == []:\n",
    "    return None\n",
    "  else:\n",
    "    return x.region['data']['name']\n",
    "\n",
    "runsdf['regionname'] = rawdf.apply(lambda x: getRegion(x), axis=1)\n"
   ]
  },
  {
   "cell_type": "code",
   "execution_count": 5,
   "metadata": {},
   "outputs": [],
   "source": [
    "def getPlatform(x):\n",
    "  if x.platform['data'] == []:\n",
    "    return None\n",
    "  else:\n",
    "    return x.platform['data']['name']\n",
    "\n",
    "runsdf['platformname'] = rawdf.apply(lambda x: getPlatform(x), axis=1)"
   ]
  },
  {
   "cell_type": "markdown",
   "metadata": {},
   "source": [
    "# Sub-Categories\n",
    "\n",
    "Memoized for speed and kindness."
   ]
  },
  {
   "cell_type": "code",
   "execution_count": 6,
   "metadata": {},
   "outputs": [],
   "source": [
    "varMemo = {}"
   ]
  },
  {
   "cell_type": "code",
   "execution_count": 7,
   "metadata": {},
   "outputs": [],
   "source": [
    "def getVariable(variableid):\n",
    "  if variableid not in varMemo:\n",
    "    url = \"https://www.speedrun.com/api/v1/variables/\" + variableid\n",
    "    response = requests.get(url)\n",
    "    varMemo[variableid] = response.json()['data']\n",
    "  return varMemo[variableid]\n",
    "\n",
    "def getValue(variableid, valueid):\n",
    "  var = getVariable(variableid)\n",
    "  return var['values']['values'][valueid]['label']\n",
    "\n",
    "def getSubCategories(x):\n",
    "  if x.run['values'] == {}:\n",
    "    return None\n",
    "  else:\n",
    "    vals = []\n",
    "    for varid, valid in x.run['values'].items():\n",
    "      if getVariable(varid)['is-subcategory']:\n",
    "        vals.append(getValue(varid, valid))  \n",
    "    return \" -- \".join(vals)\n",
    "\n",
    "runsdf['subcategories'] = rawdf.apply(lambda x: getSubCategories(x), axis=1)"
   ]
  },
  {
   "cell_type": "markdown",
   "metadata": {},
   "source": [
    "# Dump to a csv"
   ]
  },
  {
   "cell_type": "markdown",
   "metadata": {},
   "source": []
  },
  {
   "cell_type": "code",
   "execution_count": 8,
   "metadata": {},
   "outputs": [
    {
     "name": "stdout",
     "output_type": "stream",
     "text": [
      "csv exported\n"
     ]
    }
   ],
   "source": [
    "import csv\n",
    "runsdf.to_csv('runs.csv', index=False, quoting=csv.QUOTE_NONNUMERIC, columns=['gamename', 'categoryname', 'subcategories', 'platformname', 'regionname', 'place', 'time', 'date','video','comment'])\n",
    "print('csv exported')"
   ]
  },
  {
   "cell_type": "code",
   "execution_count": 9,
   "metadata": {},
   "outputs": [
    {
     "data": {
      "text/html": [
       "<div>\n",
       "<style scoped>\n",
       "    .dataframe tbody tr th:only-of-type {\n",
       "        vertical-align: middle;\n",
       "    }\n",
       "\n",
       "    .dataframe tbody tr th {\n",
       "        vertical-align: top;\n",
       "    }\n",
       "\n",
       "    .dataframe thead th {\n",
       "        text-align: right;\n",
       "    }\n",
       "</style>\n",
       "<table border=\"1\" class=\"dataframe\">\n",
       "  <thead>\n",
       "    <tr style=\"text-align: right;\">\n",
       "      <th></th>\n",
       "      <th>gamename</th>\n",
       "      <th>categoryname</th>\n",
       "      <th>subcategories</th>\n",
       "      <th>platformname</th>\n",
       "      <th>regionname</th>\n",
       "      <th>place</th>\n",
       "      <th>time</th>\n",
       "      <th>date</th>\n",
       "      <th>video</th>\n",
       "      <th>comment</th>\n",
       "    </tr>\n",
       "  </thead>\n",
       "  <tbody>\n",
       "    <tr>\n",
       "      <th>0</th>\n",
       "      <td>Super Solitaire</td>\n",
       "      <td>Free Cell</td>\n",
       "      <td>No Mouse</td>\n",
       "      <td>Super Nintendo</td>\n",
       "      <td>NaN</td>\n",
       "      <td>11</td>\n",
       "      <td>251.0</td>\n",
       "      <td>2021-08-29</td>\n",
       "      <td>https://youtu.be/FnyM3XdZ64A</td>\n",
       "      <td>Played on an SNS-001 with SD2SNES and gamepad.</td>\n",
       "    </tr>\n",
       "    <tr>\n",
       "      <th>1</th>\n",
       "      <td>Super Solitaire</td>\n",
       "      <td>Golf</td>\n",
       "      <td>Dead King -- No Mouse</td>\n",
       "      <td>Super Nintendo</td>\n",
       "      <td>NaN</td>\n",
       "      <td>4</td>\n",
       "      <td>72.0</td>\n",
       "      <td>2021-08-29</td>\n",
       "      <td>https://youtu.be/EnAiEkuWK8Q</td>\n",
       "      <td>Played on an SNS-001 with SD2SNES and gamepad.</td>\n",
       "    </tr>\n",
       "    <tr>\n",
       "      <th>2</th>\n",
       "      <td>Super Solitaire</td>\n",
       "      <td>Klondike</td>\n",
       "      <td>1 Flip -- No Mouse</td>\n",
       "      <td>Super Nintendo</td>\n",
       "      <td>NaN</td>\n",
       "      <td>7</td>\n",
       "      <td>140.0</td>\n",
       "      <td>2021-08-28</td>\n",
       "      <td>https://youtu.be/7pADwt4V-Js</td>\n",
       "      <td>Played on an SNS-001 with SD2SNES and gamepad.</td>\n",
       "    </tr>\n",
       "    <tr>\n",
       "      <th>3</th>\n",
       "      <td>Super Solitaire</td>\n",
       "      <td>Poker</td>\n",
       "      <td>No Mouse</td>\n",
       "      <td>Super Nintendo</td>\n",
       "      <td>NaN</td>\n",
       "      <td>4</td>\n",
       "      <td>0.1</td>\n",
       "      <td>2021-08-28</td>\n",
       "      <td>https://youtu.be/3dP4e1yJXLs</td>\n",
       "      <td>Played on an SNS-001 with SD2SNES and gamepad.</td>\n",
       "    </tr>\n",
       "    <tr>\n",
       "      <th>4</th>\n",
       "      <td>Alien Crush</td>\n",
       "      <td>10 Million Points</td>\n",
       "      <td>NaN</td>\n",
       "      <td>TurboGrafx-16/PC Engine</td>\n",
       "      <td>JPN / NTSC</td>\n",
       "      <td>1</td>\n",
       "      <td>498.0</td>\n",
       "      <td>2021-07-23</td>\n",
       "      <td>https://www.youtube.com/watch?v=rE6Gz2wrWYY</td>\n",
       "      <td>Played on a TG-16 with TBED.</td>\n",
       "    </tr>\n",
       "  </tbody>\n",
       "</table>\n",
       "</div>"
      ],
      "text/plain": [
       "          gamename       categoryname          subcategories  \\\n",
       "0  Super Solitaire          Free Cell               No Mouse   \n",
       "1  Super Solitaire               Golf  Dead King -- No Mouse   \n",
       "2  Super Solitaire           Klondike     1 Flip -- No Mouse   \n",
       "3  Super Solitaire              Poker               No Mouse   \n",
       "4      Alien Crush  10 Million Points                    NaN   \n",
       "\n",
       "              platformname  regionname  place   time        date  \\\n",
       "0           Super Nintendo         NaN     11  251.0  2021-08-29   \n",
       "1           Super Nintendo         NaN      4   72.0  2021-08-29   \n",
       "2           Super Nintendo         NaN      7  140.0  2021-08-28   \n",
       "3           Super Nintendo         NaN      4    0.1  2021-08-28   \n",
       "4  TurboGrafx-16/PC Engine  JPN / NTSC      1  498.0  2021-07-23   \n",
       "\n",
       "                                         video  \\\n",
       "0                 https://youtu.be/FnyM3XdZ64A   \n",
       "1                 https://youtu.be/EnAiEkuWK8Q   \n",
       "2                 https://youtu.be/7pADwt4V-Js   \n",
       "3                 https://youtu.be/3dP4e1yJXLs   \n",
       "4  https://www.youtube.com/watch?v=rE6Gz2wrWYY   \n",
       "\n",
       "                                          comment  \n",
       "0  Played on an SNS-001 with SD2SNES and gamepad.  \n",
       "1  Played on an SNS-001 with SD2SNES and gamepad.  \n",
       "2  Played on an SNS-001 with SD2SNES and gamepad.  \n",
       "3  Played on an SNS-001 with SD2SNES and gamepad.  \n",
       "4                    Played on a TG-16 with TBED.  "
      ]
     },
     "execution_count": 9,
     "metadata": {},
     "output_type": "execute_result"
    }
   ],
   "source": [
    "csvdf = pd.read_csv('runs.csv')\n",
    "csvdf.head()"
   ]
  }
 ],
 "metadata": {
  "interpreter": {
   "hash": "01801044ed9db74b664ede8653c274a07b1f24f7e439fb750f60b0edcb12e1aa"
  },
  "kernelspec": {
   "display_name": "Python 3.10.0 64-bit ('.venv': venv)",
   "name": "python3"
  },
  "language_info": {
   "codemirror_mode": {
    "name": "ipython",
    "version": 3
   },
   "file_extension": ".py",
   "mimetype": "text/x-python",
   "name": "python",
   "nbconvert_exporter": "python",
   "pygments_lexer": "ipython3",
   "version": "3.10.0"
  },
  "orig_nbformat": 4
 },
 "nbformat": 4,
 "nbformat_minor": 2
}
