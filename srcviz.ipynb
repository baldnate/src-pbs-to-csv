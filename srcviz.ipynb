{
 "cells": [
  {
   "cell_type": "markdown",
   "metadata": {},
   "source": [
    "# Building a csv of all your PBs\n",
    "\n",
    "Main moving parts:\n",
    "- You'll need your user id so you can query for your runs (user name isn't good enough)\n",
    "- I hit the \"personal-bests\" endpoint under users\n",
    "   - If you want obsoleted runs as well, that's a different endpoint\n",
    "- I used pandas to perform all the tabular manipulation\n",
    "- Variables can't be embedded, which means subcategories aren't here.  _Yet_.\n",
    "- Out comes a csv"
   ]
  },
  {
   "cell_type": "markdown",
   "metadata": {},
   "source": [
    "# Get user id"
   ]
  },
  {
   "cell_type": "code",
   "execution_count": 1,
   "metadata": {},
   "outputs": [
    {
     "name": "stdout",
     "output_type": "stream",
     "text": [
      "found user baldnate\n",
      "id is kj9yg2wx\n"
     ]
    }
   ],
   "source": [
    "import json\n",
    "import pandas as pd\n",
    "import srcomapi, srcomapi.datatypes as dt\n",
    "api = srcomapi.SpeedrunCom()\n",
    "s = api.search(srcomapi.datatypes.User, {\"name\": \"baldnate\"})\n",
    "u = None\n",
    "if len(s) == 1:\n",
    "  u = s[0]\n",
    "  print('found user', u.name)\n",
    "  print('id is', u.id)\n",
    "else:\n",
    "  print(len(s), 'users found, expected 1')"
   ]
  },
  {
   "cell_type": "markdown",
   "metadata": {},
   "source": [
    "# Get PBs (using curl, could be converted to requests)"
   ]
  },
  {
   "cell_type": "markdown",
   "metadata": {},
   "source": [
    "... meanwhile on the command line ...\n",
    "\n",
    "    > curl -O https://www.speedrun.com/api/v1/users/kj9yg2wx/personal-bests?embed=game,category,region,platform\n",
    "      % Total    % Received % Xferd  Average Speed   Time    Time     Time  Current\n",
    "                                     Dload  Upload   Total   Spent    Left  Speed\n",
    "    100 1951k  100 1951k    0     0  1951k      0  0:00:01 --:--:--  0:00:01 3573k"
   ]
  },
  {
   "cell_type": "code",
   "execution_count": 2,
   "metadata": {},
   "outputs": [],
   "source": [
    "f = open(\"pbs.json\",'r',encoding='utf-8-sig')\n",
    "nate = json.load(f)\n",
    "rawdf = pd.DataFrame(nate['data'])"
   ]
  },
  {
   "cell_type": "markdown",
   "metadata": {},
   "source": [
    "# \"Simple\" Columns"
   ]
  },
  {
   "cell_type": "code",
   "execution_count": 3,
   "metadata": {},
   "outputs": [],
   "source": [
    "runsdf = pd.DataFrame()\n",
    "runsdf['place'] = rawdf['place']\n",
    "runsdf['runid'] = rawdf.apply(lambda x: x.run['id'], axis=1)\n",
    "runsdf['gamename'] = rawdf.apply(lambda x: x.game['data']['names']['international'], axis=1)\n",
    "runsdf['categoryname'] = rawdf.apply(lambda x: x.category['data']['name'], axis=1)\n",
    "runsdf['time'] = rawdf.apply(lambda x: x.run['times']['primary_t'], axis=1)\n",
    "runsdf['date'] = rawdf.apply(lambda x: x.run['date'], axis=1)\n",
    "runsdf['video'] = rawdf.apply(lambda x: x.run['videos']['links'][0]['uri'], axis=1)\n",
    "runsdf['comment'] = rawdf.apply(lambda x: str(x.run['comment']).replace('\\n', ' ').replace('\\r', ' ') , axis=1)"
   ]
  },
  {
   "cell_type": "markdown",
   "metadata": {},
   "source": [
    "# Columns that need optional handling"
   ]
  },
  {
   "cell_type": "code",
   "execution_count": 4,
   "metadata": {},
   "outputs": [],
   "source": [
    "def getRegion(x):\n",
    "  if x.region['data'] == []:\n",
    "    return None\n",
    "  else:\n",
    "    return x.region['data']['name']\n",
    "\n",
    "runsdf['regionname'] = rawdf.apply(lambda x: getRegion(x), axis=1)\n"
   ]
  },
  {
   "cell_type": "code",
   "execution_count": 5,
   "metadata": {},
   "outputs": [],
   "source": [
    "def getPlatform(x):\n",
    "  if x.platform['data'] == []:\n",
    "    return None\n",
    "  else:\n",
    "    return x.platform['data']['name']\n",
    "\n",
    "runsdf['platformname'] = rawdf.apply(lambda x: getPlatform(x), axis=1)"
   ]
  },
  {
   "cell_type": "markdown",
   "metadata": {},
   "source": [
    "# Dump to a csv"
   ]
  },
  {
   "cell_type": "code",
   "execution_count": 6,
   "metadata": {},
   "outputs": [
    {
     "name": "stdout",
     "output_type": "stream",
     "text": [
      "csv exported\n"
     ]
    }
   ],
   "source": [
    "import csv\n",
    "runsdf.to_csv('nateruns.csv', index=False, quoting=csv.QUOTE_NONNUMERIC, columns=['gamename', 'categoryname', 'platformname', 'regionname', 'place', 'time', 'date','video','comment'])\n",
    "print('csv exported')"
   ]
  }
 ],
 "metadata": {
  "interpreter": {
   "hash": "01801044ed9db74b664ede8653c274a07b1f24f7e439fb750f60b0edcb12e1aa"
  },
  "kernelspec": {
   "display_name": "Python 3.10.0 64-bit ('.venv': venv)",
   "name": "python3"
  },
  "language_info": {
   "codemirror_mode": {
    "name": "ipython",
    "version": 3
   },
   "file_extension": ".py",
   "mimetype": "text/x-python",
   "name": "python",
   "nbconvert_exporter": "python",
   "pygments_lexer": "ipython3",
   "version": "3.10.0"
  },
  "orig_nbformat": 4
 },
 "nbformat": 4,
 "nbformat_minor": 2
}
