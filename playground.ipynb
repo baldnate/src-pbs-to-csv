{
 "cells": [
  {
   "cell_type": "markdown",
   "metadata": {},
   "source": [
    "# Building a csv of all your PBs\n",
    "-- a short story by baldnate"
   ]
  },
  {
   "cell_type": "markdown",
   "metadata": {},
   "source": [
    "# Get user id"
   ]
  },
  {
   "cell_type": "code",
   "execution_count": null,
   "metadata": {},
   "outputs": [],
   "source": [
    "import json\n",
    "import pandas as pd\n",
    "import requests\n",
    "\n",
    "users = {}\n",
    "def getUserId(username):\n",
    "  if username not in users:\n",
    "    url = \"https://www.speedrun.com/api/v1/users?name=\" + username\n",
    "    data = requests.get(url).json()['data']\n",
    "    if len(data) == 1:\n",
    "      users[username] = data[0]['id']\n",
    "    else:\n",
    "      raise Exception('Searched for ' + username + ', got back ' + str(len(data)) + ' entries (expected 1)') \n",
    "  return users[username]\n",
    "\n",
    "userid = getUserId('baldnate')"
   ]
  },
  {
   "cell_type": "markdown",
   "metadata": {},
   "source": [
    "# Get PBs"
   ]
  },
  {
   "cell_type": "code",
   "execution_count": null,
   "metadata": {},
   "outputs": [],
   "source": [
    "def getPBs(userid):\n",
    "  url = \"https://www.speedrun.com/api/v1/users/\" + userid + \"/personal-bests?embed=game,category,region,platform,players\"\n",
    "  data = requests.get(url).json()['data']\n",
    "  return data\n",
    "\n",
    "pbs = getPBs(userid)\n",
    "rawdf = pd.DataFrame(pbs)\n",
    "runsdf = pd.DataFrame()"
   ]
  },
  {
   "cell_type": "markdown",
   "metadata": {},
   "source": [
    "# Co-Op - aka: write player(s) to a column"
   ]
  },
  {
   "cell_type": "markdown",
   "metadata": {},
   "source": [
    "# \"Simple\" Columns"
   ]
  },
  {
   "cell_type": "code",
   "execution_count": null,
   "metadata": {},
   "outputs": [],
   "source": [
    "\n",
    "runsdf['place'] = rawdf['place']\n",
    "runsdf['runid'] = rawdf.apply(lambda x: x.run['id'], axis=1)\n",
    "runsdf['gameid'] = rawdf.apply(lambda x: x.run['game'], axis=1)\n",
    "runsdf['gamename'] = rawdf.apply(lambda x: x.game['data']['names']['international'], axis=1)\n",
    "runsdf['categoryname'] = rawdf.apply(lambda x: x.category['data']['name'], axis=1)\n",
    "runsdf['time'] = rawdf.apply(lambda x: x.run['times']['primary_t'], axis=1)\n",
    "runsdf['date'] = rawdf.apply(lambda x: x.run['date'], axis=1)\n",
    "runsdf['video'] = rawdf.apply(lambda x: x.run['videos']['links'][0]['uri'], axis=1)\n",
    "runsdf['comment'] = rawdf.apply(lambda x: str(x.run['comment']).replace('\\n', ' ').replace('\\r', ' ') , axis=1)"
   ]
  },
  {
   "cell_type": "markdown",
   "metadata": {},
   "source": [
    "# Columns that need optional handling"
   ]
  },
  {
   "cell_type": "code",
   "execution_count": null,
   "metadata": {},
   "outputs": [],
   "source": [
    "def getRegion(x):\n",
    "  if x.region['data'] == []:\n",
    "    return None\n",
    "  else:\n",
    "    return x.region['data']['name']\n",
    "\n",
    "runsdf['regionname'] = rawdf.apply(lambda x: getRegion(x), axis=1)\n"
   ]
  },
  {
   "cell_type": "code",
   "execution_count": null,
   "metadata": {},
   "outputs": [],
   "source": [
    "def getPlatform(x):\n",
    "  if x.platform['data'] == []:\n",
    "    return None\n",
    "  else:\n",
    "    return x.platform['data']['name']\n",
    "\n",
    "runsdf['platformname'] = rawdf.apply(lambda x: getPlatform(x), axis=1)"
   ]
  },
  {
   "cell_type": "markdown",
   "metadata": {},
   "source": [
    "# Sub-Categories\n",
    "\n",
    "Memoized for speed and kindness."
   ]
  },
  {
   "cell_type": "code",
   "execution_count": null,
   "metadata": {},
   "outputs": [],
   "source": [
    "varMemo = {}"
   ]
  },
  {
   "cell_type": "code",
   "execution_count": null,
   "metadata": {},
   "outputs": [],
   "source": [
    "def getVariable(variableid):\n",
    "  if variableid not in varMemo:\n",
    "    url = \"https://www.speedrun.com/api/v1/variables/\" + variableid\n",
    "    response = requests.get(url)\n",
    "    varMemo[variableid] = response.json()['data']\n",
    "  return varMemo[variableid]\n",
    "\n",
    "def getValue(variableid, valueid):\n",
    "  var = getVariable(variableid)\n",
    "  return var['values']['values'][valueid]['label']\n",
    "\n",
    "def getSubCategories(x):\n",
    "  if x.run['values'] == {}:\n",
    "    return None\n",
    "  else:\n",
    "    vals = []\n",
    "    for varid, valid in x.run['values'].items():\n",
    "      if getVariable(varid)['is-subcategory']:\n",
    "        vals.append(getValue(varid, valid))  \n",
    "    return \" -- \".join(vals)\n",
    "\n",
    "runsdf['subcategories'] = rawdf.apply(lambda x: getSubCategories(x), axis=1)"
   ]
  },
  {
   "cell_type": "markdown",
   "metadata": {},
   "source": [
    "# Dump to a csv"
   ]
  },
  {
   "cell_type": "code",
   "execution_count": null,
   "metadata": {},
   "outputs": [],
   "source": [
    "def getPlayers(x):\n",
    "  players = []\n",
    "  for p in x.players['data']:\n",
    "    players.append(p['names']['international']) \n",
    "  return \", \".join(players)\n",
    "\n",
    "runsdf['players'] = rawdf.apply(lambda x: getPlayers(x), axis=1)"
   ]
  },
  {
   "cell_type": "markdown",
   "metadata": {},
   "source": []
  },
  {
   "cell_type": "code",
   "execution_count": null,
   "metadata": {},
   "outputs": [],
   "source": [
    "import csv\n",
    "runsdf.to_csv('runs.csv', index=False, quoting=csv.QUOTE_NONNUMERIC)\n",
    "print('csv exported')"
   ]
  },
  {
   "cell_type": "code",
   "execution_count": null,
   "metadata": {},
   "outputs": [],
   "source": [
    "csvdf = pd.read_csv('runs.csv')\n",
    "csvdf.head()"
   ]
  },
  {
   "cell_type": "code",
   "execution_count": null,
   "metadata": {},
   "outputs": [],
   "source": []
  }
 ],
 "metadata": {
  "interpreter": {
   "hash": "01801044ed9db74b664ede8653c274a07b1f24f7e439fb750f60b0edcb12e1aa"
  },
  "kernelspec": {
   "display_name": "Python 3.10.0 64-bit ('.venv': venv)",
   "name": "python3"
  },
  "language_info": {
   "codemirror_mode": {
    "name": "ipython",
    "version": 3
   },
   "file_extension": ".py",
   "mimetype": "text/x-python",
   "name": "python",
   "nbconvert_exporter": "python",
   "pygments_lexer": "ipython3",
   "version": "3.10.0"
  },
  "orig_nbformat": 4
 },
 "nbformat": 4,
 "nbformat_minor": 2
}
